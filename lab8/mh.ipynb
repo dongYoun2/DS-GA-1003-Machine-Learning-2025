{
  "cells": [
    {
      "cell_type": "code",
      "execution_count": 69,
      "metadata": {
        "vscode": {
          "languageId": "plaintext"
        },
        "id": "BYS9Cx-ONj-q"
      },
      "outputs": [],
      "source": [
        "import torch\n",
        "import torch.nn as nn\n",
        "import torch.nn.functional as F\n",
        "from torch.utils.data import DataLoader, Subset\n",
        "from torchvision import datasets, transforms\n",
        "from torchvision.datasets import FashionMNIST\n",
        "import matplotlib.pyplot as plt\n",
        "import numpy as np"
      ]
    },
    {
      "cell_type": "code",
      "execution_count": 70,
      "metadata": {
        "vscode": {
          "languageId": "plaintext"
        },
        "id": "rBcJ1DdvNj-r",
        "outputId": "9115a851-cc94-4e0c-d272-3a5e9409e712",
        "colab": {
          "base_uri": "https://localhost:8080/"
        }
      },
      "outputs": [
        {
          "output_type": "stream",
          "name": "stdout",
          "text": [
            "Using device: cuda\n"
          ]
        }
      ],
      "source": [
        "# Use GPU if available\n",
        "device = torch.device(\"cuda\" if torch.cuda.is_available() else \"cpu\")\n",
        "print(\"Using device:\", device)"
      ]
    },
    {
      "cell_type": "code",
      "execution_count": 71,
      "metadata": {
        "jupyter": {
          "source_hidden": true
        },
        "vscode": {
          "languageId": "plaintext"
        },
        "id": "WLGShBL5Nj-s",
        "outputId": "be2bc39c-f064-4250-fcc5-affd5f29603a",
        "colab": {
          "base_uri": "https://localhost:8080/"
        }
      },
      "outputs": [
        {
          "output_type": "stream",
          "name": "stdout",
          "text": [
            "Training set size: 60000, Test set size: 10000\n",
            "['T-shirt/top', 'Trouser', 'Pullover', 'Dress', 'Coat', 'Sandal', 'Shirt', 'Sneaker', 'Bag', 'Ankle boot']\n"
          ]
        }
      ],
      "source": [
        "# Define transformations for the dataset\n",
        "transform = transforms.Compose([\n",
        "    transforms.Resize(28),        # Resize images to 28x28 for consistency\n",
        "    transforms.Grayscale(num_output_channels=1),  # Ensure 1 channel (grayscale)\n",
        "    transforms.ToTensor(),        # Convert to tensor (values in [0,1])\n",
        "])\n",
        "\n",
        "# Load FashionMNIST dataset\n",
        "train_dataset = datasets.FashionMNIST(root=\"./data\", train=True, download=True, transform=transform)\n",
        "test_dataset = datasets.FashionMNIST(root=\"./data\", train=False, download=True, transform=transform)\n",
        "\n",
        "# Define DataLoader for training\n",
        "batch_size = 64\n",
        "train_loader = DataLoader(train_dataset, batch_size=batch_size, shuffle=True, pin_memory=True)\n",
        "test_loader = DataLoader(test_dataset, batch_size=8, shuffle=True, pin_memory=True)\n",
        "\n",
        "# Print dataset size\n",
        "print(f\"Training set size: {len(train_dataset)}, Test set size: {len(test_dataset)}\")\n",
        "\n",
        "# Define FashionMNIST class names\n",
        "class_names = ['T-shirt/top', 'Trouser', 'Pullover', 'Dress', 'Coat',\n",
        "            'Sandal', 'Shirt', 'Sneaker', 'Bag', 'Ankle boot']\n",
        "print(class_names)\n"
      ]
    },
    {
      "cell_type": "code",
      "execution_count": 72,
      "metadata": {
        "jupyter": {
          "source_hidden": true
        },
        "vscode": {
          "languageId": "plaintext"
        },
        "id": "FeJGMXAcNj-s",
        "outputId": "7289b801-4d3b-47fe-d696-97d33c18ce55",
        "colab": {
          "base_uri": "https://localhost:8080/"
        }
      },
      "outputs": [
        {
          "output_type": "stream",
          "name": "stdout",
          "text": [
            "Using device: cuda\n",
            "VAE model initialized with latent dimension: 20\n"
          ]
        }
      ],
      "source": [
        "# Set device\n",
        "device = torch.device(\"cuda\" if torch.cuda.is_available() else \"cpu\")\n",
        "print(f\"Using device: {device}\")\n",
        "\n",
        "# Define the VAE model\n",
        "class VAE(nn.Module):\n",
        "    def __init__(self, latent_dim=20):\n",
        "        super(VAE, self).__init__()\n",
        "        self.latent_dim = latent_dim\n",
        "        self.img_size = 28 * 28  # FashionMNIST images are 28x28\n",
        "\n",
        "        # Encoder: Fully connected layers\n",
        "        self.encoder = nn.Sequential(\n",
        "            nn.Flatten(),  # Flatten image to 784\n",
        "            nn.Linear(self.img_size, 512),\n",
        "            nn.ReLU(),\n",
        "            nn.Linear(512, 2 * latent_dim)  # Outputs mu and logvar concatenated\n",
        "        )\n",
        "\n",
        "        # Decoder: Fully connected layers\n",
        "        self.decoder = nn.Sequential(\n",
        "            nn.Linear(latent_dim, 512),\n",
        "            nn.ReLU(),\n",
        "            nn.Linear(512, self.img_size),\n",
        "            nn.Sigmoid()  # Sigmoid to output values in [0,1] for BCE loss\n",
        "        )\n",
        "\n",
        "    def encode(self, x):\n",
        "        \"\"\"Encodes input images into latent mean and log-variance vectors.\"\"\"\n",
        "        h = self.encoder(x)  # (batch, 2*latent_dim)\n",
        "        mu = h[:, :self.latent_dim]\n",
        "        logvar = h[:, self.latent_dim:]\n",
        "        return mu, logvar\n",
        "\n",
        "    def reparameterize(self, mu, logvar):\n",
        "        \"\"\"Samples z from N(mu, sigma^2) using the reparameterization trick.\"\"\"\n",
        "        std = torch.exp(0.5 * logvar)  # Compute standard deviation\n",
        "        eps = torch.randn_like(std)  # Sample epsilon ~ N(0, I)\n",
        "        z = mu + eps * std  # Reparameterization trick\n",
        "        return z\n",
        "\n",
        "    def decode(self, z):\n",
        "        \"\"\"Decodes latent vector z to reconstructed image.\"\"\"\n",
        "        x_reconst_flat = self.decoder(z)  # Output is flattened image\n",
        "        x_reconst = x_reconst_flat.view(-1, 1, 28, 28)  # Reshape to (batch, 1, 28, 28)\n",
        "        return x_reconst\n",
        "\n",
        "    def forward(self, x):\n",
        "        #TODO\n",
        "        mu, logvar = self.encode(x)\n",
        "        z = self.reparameterize(mu, logvar)\n",
        "        x_reconst = self.decode(z)\n",
        "        return x_reconst, mu, logvar\n",
        "\n",
        "# Instantiate the VAE model\n",
        "latent_dim = 20  # Adjustable latent dimension\n",
        "vae = VAE(latent_dim).to(device)\n",
        "optimizer = torch.optim.Adam(vae.parameters(), lr=1e-3)\n",
        "\n",
        "print(f\"VAE model initialized with latent dimension: {latent_dim}\")"
      ]
    },
    {
      "cell_type": "code",
      "execution_count": 73,
      "metadata": {
        "jupyter": {
          "source_hidden": true
        },
        "vscode": {
          "languageId": "plaintext"
        },
        "id": "QMDYxrq9Nj-s"
      },
      "outputs": [],
      "source": [
        "def loss_function(recon_x, x, mu, logvar):\n",
        "    \"\"\"Computes the VAE loss: Reconstruction loss + KL divergence\"\"\"\n",
        "    # Reconstruction loss (BCE)\n",
        "    recon_loss = F.binary_cross_entropy(recon_x, x, reduction='sum') / x.size(0)\n",
        "\n",
        "    # KL divergence loss (per batch average)\n",
        "    kl_loss = -0.5 * torch.sum(1 + logvar - mu.pow(2) - logvar.exp()) / x.size(0)\n",
        "\n",
        "    return recon_loss + kl_loss"
      ]
    },
    {
      "cell_type": "code",
      "execution_count": 74,
      "metadata": {
        "vscode": {
          "languageId": "plaintext"
        },
        "id": "JJyel_KjNj-t",
        "outputId": "b728ce39-deb6-46ef-8371-a543aa2e3eb1",
        "colab": {
          "base_uri": "https://localhost:8080/"
        }
      },
      "outputs": [
        {
          "output_type": "stream",
          "name": "stdout",
          "text": [
            "Epoch [1/20], Loss: 272.3784\n",
            "Epoch [2/20], Loss: 250.4543\n",
            "Epoch [3/20], Loss: 246.6636\n",
            "Epoch [4/20], Loss: 244.9566\n",
            "Epoch [5/20], Loss: 243.7848\n",
            "Epoch [6/20], Loss: 242.9133\n",
            "Epoch [7/20], Loss: 242.2271\n",
            "Epoch [8/20], Loss: 241.7678\n",
            "Epoch [9/20], Loss: 241.3441\n",
            "Epoch [10/20], Loss: 240.9778\n",
            "Epoch [11/20], Loss: 240.7123\n",
            "Epoch [12/20], Loss: 240.5065\n",
            "Epoch [13/20], Loss: 240.2714\n",
            "Epoch [14/20], Loss: 240.0382\n",
            "Epoch [15/20], Loss: 239.8992\n",
            "Epoch [16/20], Loss: 239.7332\n",
            "Epoch [17/20], Loss: 239.6452\n",
            "Epoch [18/20], Loss: 239.4941\n",
            "Epoch [19/20], Loss: 239.4132\n",
            "Epoch [20/20], Loss: 239.3020\n"
          ]
        }
      ],
      "source": [
        "# Load FashionMNIST dataset\n",
        "batch_size = 64\n",
        "train_loader = DataLoader(train_dataset, batch_size=batch_size, shuffle=True, pin_memory=True)\n",
        "\n",
        "# Training loop\n",
        "num_epochs = 20\n",
        "vae.train()\n",
        "for epoch in range(1, num_epochs + 1):\n",
        "    total_loss = 0.0\n",
        "    for images, _ in train_loader:\n",
        "        images = images.to(device)\n",
        "\n",
        "        optimizer.zero_grad()\n",
        "        recon_images, mu, logvar = vae(images)\n",
        "        loss = loss_function(recon_images, images, mu, logvar)\n",
        "        loss.backward()\n",
        "        optimizer.step()\n",
        "\n",
        "        total_loss += loss.item()\n",
        "\n",
        "    avg_loss = total_loss / len(train_loader)\n",
        "    print(f\"Epoch [{epoch}/{num_epochs}], Loss: {avg_loss:.4f}\")\n"
      ]
    },
    {
      "cell_type": "code",
      "execution_count": 75,
      "metadata": {
        "id": "BPqlF-VtNj-t"
      },
      "outputs": [],
      "source": [
        "def metropolis_hastings_completion(vae, left_half, num_samples=1000, burn_in=100, step_size=0.1):\n",
        "    \"\"\"\n",
        "    Implements Metropolis-Hastings to sample the right half of an image given the left half.\n",
        "\n",
        "    Args:\n",
        "        vae: Trained VAE model\n",
        "        left_half: Tensor of shape [1, 1, 28, 14] containing the left half of the image\n",
        "        num_samples: Total number of samples to generate\n",
        "        burn_in: Number of initial samples to discard\n",
        "        step_size: Size of the random steps in latent space\n",
        "\n",
        "    Returns:\n",
        "        samples: List of accepted samples after burn-in\n",
        "        acceptance_rate: Fraction of proposals that were accepted\n",
        "        posterior_probs: List of posterior probabilities (likelihood + prior) for monitoring convergence\n",
        "    \"\"\"\n",
        "    device = next(vae.parameters()).device\n",
        "    vae.eval()  # Set VAE to evaluation mode\n",
        "\n",
        "    # Create a template for the full image with zeros on the right half\n",
        "    img_template = torch.zeros(1, 1, 28, 28, device=device)\n",
        "    img_template[:, :, :, :14] = left_half\n",
        "\n",
        "    # Initialize with a random latent vector\n",
        "    current_z = torch.randn(1, vae.latent_dim, device=device)\n",
        "\n",
        "    # Decode to get initial image\n",
        "    current_x = vae.decode(current_z)\n",
        "\n",
        "    # Ensure the left half matches the observed left half\n",
        "    current_x_with_left = current_x.clone()\n",
        "    current_x_with_left[:, :, :, :14] = left_half\n",
        "\n",
        "    # Calculate initial likelihood (BCE on left half only)\n",
        "    current_likelihood = -F.binary_cross_entropy(\n",
        "        current_x[:, :, :, :14],\n",
        "        left_half,\n",
        "        reduction='sum'\n",
        "    )\n",
        "\n",
        "    # Calculate initial prior probability (log probability under N(0,I))\n",
        "    current_prior = -0.5 * torch.sum(current_z ** 2)\n",
        "\n",
        "    # Current posterior (log scale)\n",
        "    current_posterior = current_likelihood + current_prior\n",
        "\n",
        "    # Track samples, acceptance, and posterior probabilities\n",
        "    samples = []\n",
        "    posterior_probs = []\n",
        "    accepted = 0\n",
        "\n",
        "    # Store initial posterior\n",
        "    posterior_probs.append(current_posterior.item())\n",
        "\n",
        "    # Run Metropolis-Hastings\n",
        "    for i in range(num_samples + burn_in):\n",
        "        # Propose new latent vector with Gaussian step\n",
        "        proposed_z = current_z + step_size * torch.randn_like(current_z)\n",
        "\n",
        "        # Decode to get proposed image\n",
        "        proposed_x = vae.decode(proposed_z)\n",
        "\n",
        "        # Calculate proposed likelihood (BCE on left half only)\n",
        "        proposed_likelihood = -F.binary_cross_entropy(\n",
        "            proposed_x[:, :, :, :14],\n",
        "            left_half,\n",
        "            reduction='sum'\n",
        "        )\n",
        "\n",
        "        # Calculate proposed prior probability\n",
        "        proposed_prior = -0.5 * torch.sum(proposed_z ** 2)\n",
        "\n",
        "        # Calculate proposed posterior\n",
        "        proposed_posterior = proposed_likelihood + proposed_prior\n",
        "\n",
        "        # Calculate acceptance probability (in log space, then exponentiate)\n",
        "        log_accept_ratio = proposed_posterior - current_posterior\n",
        "        accept_prob = torch.min(torch.tensor(0.0, device=device), log_accept_ratio).exp().item()\n",
        "\n",
        "        # Accept or reject\n",
        "        if np.random.rand() < accept_prob:\n",
        "            current_z = proposed_z\n",
        "            current_x = proposed_x\n",
        "            current_likelihood = proposed_likelihood\n",
        "            current_prior = proposed_prior\n",
        "            current_posterior = proposed_posterior\n",
        "            accepted += 1\n",
        "\n",
        "        # Save sample (after burn-in)\n",
        "        if i >= burn_in:\n",
        "            # Create completed image (left half is observed, right half is generated)\n",
        "            completed_img = current_x.clone()\n",
        "            completed_img[:, :, :, :14] = left_half\n",
        "            samples.append(completed_img.detach().cpu())\n",
        "\n",
        "        # Always store the posterior probability (including during burn-in)\n",
        "        posterior_probs.append(current_posterior.item())\n",
        "\n",
        "    acceptance_rate = accepted / (num_samples + burn_in)\n",
        "    return samples, acceptance_rate, posterior_probs"
      ]
    },
    {
      "cell_type": "code",
      "execution_count": 92,
      "metadata": {
        "id": "WCHKmmcvNj-t"
      },
      "outputs": [],
      "source": [
        "def metropolis_hastings_completion_with_encoder(vae, left_half, num_samples=1000, burn_in=100):\n",
        "    \"\"\"\n",
        "    Implements Metropolis-Hastings to sample the right half of an image given the left half,\n",
        "    using the VAE encoder for proposals.\n",
        "\n",
        "    Args:\n",
        "        vae: Trained VAE model with encode and decode methods\n",
        "        left_half: Tensor of shape [1, 1, 28, 14] containing the left half of the image\n",
        "        num_samples: Total number of samples to generate\n",
        "        burn_in: Number of initial samples to discard\n",
        "\n",
        "    Returns:\n",
        "        samples: List of accepted samples after burn-in\n",
        "        acceptance_rate: Fraction of proposals that were accepted\n",
        "    \"\"\"\n",
        "    device = next(vae.parameters()).device\n",
        "    vae.eval()  # Set VAE to evaluation mode\n",
        "\n",
        "    # Create a template for the full image with random initialization on the right half\n",
        "    img_template = torch.rand(1, 1, 28, 28, device=device)\n",
        "    img_template[:, :, :, :14] = left_half\n",
        "\n",
        "    # Initial state\n",
        "    current_x_full = img_template.clone()\n",
        "\n",
        "    # Encode to get initial latent distribution\n",
        "    current_mu, current_logvar = vae.encode(current_x_full)\n",
        "    current_z = vae.reparameterize(current_mu, current_logvar)\n",
        "\n",
        "    # Track samples and acceptance\n",
        "    samples = []\n",
        "    accepted = 0\n",
        "    posterior_probs = []\n",
        "\n",
        "    # Run Metropolis-Hastings\n",
        "    for i in range(num_samples + burn_in):\n",
        "        # Propose new latent vector using the encoder (q(z|x))\n",
        "        proposed_mu, proposed_logvar = vae.encode(current_x_full)\n",
        "        proposed_z = vae.reparameterize(proposed_mu, proposed_logvar)\n",
        "\n",
        "        # Decode to get proposed right half (p(x_right|z))\n",
        "        proposed_x_right = vae.decode(proposed_z)[:, :, :, 14:]\n",
        "\n",
        "        # Create full proposed image\n",
        "        proposed_x_full = current_x_full.clone()\n",
        "        proposed_x_full[:, :, :, 14:] = proposed_x_right\n",
        "\n",
        "        # Calculate forward proposal probability: q(z_proposed | x_left, x_right_current)\n",
        "        forward_mu, forward_logvar = vae.encode(current_x_full)\n",
        "        forward_proposal_prob = log_normal_pdf(proposed_z, forward_mu, forward_logvar)\n",
        "\n",
        "        # Calculate reverse proposal probability: q(z_current | x_left, x_right_proposed)\n",
        "        reverse_x_full = proposed_x_full.clone()\n",
        "        reverse_mu, reverse_logvar = vae.encode(reverse_x_full)\n",
        "        reverse_proposal_prob = log_normal_pdf(current_z, reverse_mu, reverse_logvar)\n",
        "\n",
        "        # Calculate likelihood of proposed left half given the latent: p(x_right_proposed | z_proposed)\n",
        "        proposed_likelihood = log_bernoulli_pdf(left_half, vae.decode(proposed_z)[:, :, :, :14])\n",
        "\n",
        "        # Calculate likelihood of current left half given the latent: p(x_right_current | z_current)\n",
        "        current_likelihood = log_bernoulli_pdf(left_half, vae.decode(current_z)[:, :, :, :14])\n",
        "\n",
        "        # Calculate prior probabilities: p(z)\n",
        "        proposed_prior = log_normal_pdf(proposed_z, torch.zeros_like(proposed_mu), torch.zeros_like(proposed_logvar))\n",
        "        current_prior = log_normal_pdf(current_z, torch.zeros_like(current_mu), torch.zeros_like(current_logvar))\n",
        "\n",
        "        # Calculate acceptance ratio (in log space)\n",
        "        # g(x_right_proposed, z_proposed) / g(x_right_current, z_current) * q(z_current|x_left,x_right_proposed) / q(z_proposed|x_left,x_right_current)\n",
        "        # where g(x, z) = q(z|x) * p(x|z)\n",
        "        log_accept_ratio = (proposed_likelihood + proposed_prior + reverse_proposal_prob) - \\\n",
        "                         (current_likelihood + current_prior + forward_proposal_prob)\n",
        "\n",
        "        posterior_probs.append((proposed_likelihood + proposed_prior).item())\n",
        "\n",
        "        # Accept or reject\n",
        "        if torch.log(torch.rand(1, device=device)) < log_accept_ratio:\n",
        "            current_z = proposed_z\n",
        "            current_x_right_decoded = proposed_x_right\n",
        "            current_x_full[:, :, :, 14:] = current_x_right_decoded\n",
        "            accepted += 1\n",
        "\n",
        "        # Save sample (after burn-in)\n",
        "        if i >= burn_in:\n",
        "            # Create completed image (left half is observed, right half is generated)\n",
        "            completed_img = current_x_full.clone()\n",
        "            samples.append(completed_img.detach().cpu())\n",
        "\n",
        "    acceptance_rate = accepted / (num_samples + burn_in)\n",
        "    return samples, acceptance_rate, posterior_probs\n",
        "\n",
        "def log_normal_pdf(z, mu, logvar):\n",
        "    \"\"\"\n",
        "    Compute log probability of z under Normal(mu, exp(0.5*logvar))\n",
        "    \"\"\"\n",
        "    var = torch.exp(logvar)\n",
        "    log_prob = -0.5 * ((z - mu) ** 2 / var + logvar + torch.log(torch.tensor(2 * np.pi, device=z.device)))\n",
        "    return torch.sum(log_prob, dim=1)\n",
        "\n",
        "def log_bernoulli_pdf(x, x_recon):\n",
        "    \"\"\"\n",
        "    Compute log probability of x under Bernoulli with mean x_recon\n",
        "    (Binary cross entropy loss)\n",
        "    \"\"\"\n",
        "    return -F.binary_cross_entropy(x_recon, x, reduction='sum')\n",
        "\n",
        "def visualize_samples(original_img, samples, num_display=5):\n",
        "    \"\"\"Visualizes original image and multiple sampled completions.\"\"\"\n",
        "    plt.figure(figsize=(12, 3))\n",
        "\n",
        "    # Show original\n",
        "    plt.subplot(1, num_display+1, 1)\n",
        "    plt.imshow(original_img.squeeze(), cmap='gray')\n",
        "    plt.title(\"Original\")\n",
        "    plt.axis('off')\n",
        "\n",
        "    # Show samples\n",
        "    indices = np.linspace(0, len(samples)-1, num_display, dtype=int)\n",
        "    for i, idx in enumerate(indices):\n",
        "        plt.subplot(1, num_display+1, i+2)\n",
        "        plt.imshow(samples[idx].squeeze(), cmap='gray')\n",
        "        plt.title(f\"Sample {idx}\")\n",
        "        plt.axis('off')\n",
        "\n",
        "    plt.tight_layout()\n",
        "    plt.show()\n",
        "\n",
        "def complete_image(vae, test_img, use_encoder=True, device='cuda', proposal_scale=1.0, num_samples=2000, step_size=0.1):\n",
        "    \"\"\"Complete the right half of a test image using Metropolis-Hastings with encoder-based proposals.\"\"\"\n",
        "    # Extract left half\n",
        "    left_half = test_img[:, :, :, :14].to(device)\n",
        "\n",
        "    # Run Metropolis-Hastings\n",
        "    if use_encoder:\n",
        "        return metropolis_hastings_completion_with_encoder(\n",
        "            vae,\n",
        "            left_half,\n",
        "            num_samples=num_samples,  # Total samples to generate\n",
        "            burn_in=int(num_samples * 0.25),      # Initial samples to discard\n",
        "            # proposal_scale=proposal_scale  # Control the exploration width\n",
        "        )\n",
        "    else:\n",
        "        return metropolis_hastings_completion(\n",
        "            vae,\n",
        "            left_half,\n",
        "            num_samples=num_samples,  # Total samples to generate\n",
        "            burn_in=int(num_samples * 0.25),      # Initial samples to discard\n",
        "            step_size=step_size     # Step size in latent space\n",
        "        )"
      ]
    },
    {
      "cell_type": "code",
      "execution_count": 93,
      "metadata": {
        "id": "JSXg53knNj-t",
        "outputId": "2d3b5484-555f-45eb-ea7d-f1092147abee",
        "colab": {
          "base_uri": "https://localhost:8080/",
          "height": 253
        }
      },
      "outputs": [
        {
          "output_type": "stream",
          "name": "stdout",
          "text": [
            "Acceptance rate: 0.14\n"
          ]
        },
        {
          "output_type": "display_data",
          "data": {
            "text/plain": [
              "<Figure size 1200x300 with 6 Axes>"
            ],
            "image/png": "[encoded data removed]"
          },
          "metadata": {}
        }
      ],
      "source": [
        "test_img = train_dataset[1][0].unsqueeze(0)\n",
        "samples, acceptance_rate, posterior_probs = complete_image(vae, test_img=test_img, use_encoder=True, step_size=0.1, num_samples=1000)\n",
        "print(f\"Acceptance rate: {acceptance_rate:.2f}\")\n",
        "visualize_samples(test_img, samples)"
      ]
    },
    {
      "cell_type": "code",
      "execution_count": 94,
      "metadata": {
        "id": "BeKxU4BUNj-u",
        "outputId": "70bd3840-80ec-4a95-8ed9-8040307ed73b",
        "colab": {
          "base_uri": "https://localhost:8080/",
          "height": 448
        }
      },
      "outputs": [
        {
          "output_type": "execute_result",
          "data": {
            "text/plain": [
              "[<matplotlib.lines.Line2D at 0x7a11d1840110>]"
            ]
          },
          "metadata": {},
          "execution_count": 94
        },
        {
          "output_type": "display_data",
          "data": {
            "text/plain": [
              "<Figure size 640x480 with 1 Axes>"
            ],
            "image/png": "[encoded data removed]"
          },
          "metadata": {}
        }
      ],
      "source": [
        "plt.plot(posterior_probs)"
      ]
    },
    {
      "cell_type": "code",
      "execution_count": null,
      "metadata": {
        "id": "FXAtF1xBNj-u"
      },
      "outputs": [],
      "source": []
    }
  ],
  "metadata": {
    "kernelspec": {
      "display_name": "Python 3 (base)",
      "language": "python",
      "name": "base"
    },
    "language_info": {
      "codemirror_mode": {
        "name": "ipython",
        "version": 3
      },
      "file_extension": ".py",
      "mimetype": "text/x-python",
      "name": "python",
      "nbconvert_exporter": "python",
      "pygments_lexer": "ipython3",
      "version": "3.11.4"
    },
    "colab": {
      "provenance": []
    }
  },
  "nbformat": 4,
  "nbformat_minor": 0
}